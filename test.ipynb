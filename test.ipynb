{
 "cells": [
  {
   "cell_type": "code",
   "execution_count": 3,
   "metadata": {},
   "outputs": [
    {
     "name": "stdout",
     "output_type": "stream",
     "text": [
      "env: ANYWIDGET_HMR=1\n"
     ]
    }
   ],
   "source": [
    "%load_ext autoreload\n",
    "%autoreload 2\n",
    "%env ANYWIDGET_HMR=1"
   ]
  },
  {
   "cell_type": "code",
   "execution_count": 5,
   "metadata": {},
   "outputs": [
    {
     "name": "stdout",
     "output_type": "stream",
     "text": [
      "{\n",
      "    \"$schema\": \"https://raw.githubusercontent.com/revisit-studies/study/v1.0.6/src/parser/StudyConfigSchema.json\",\n",
      "    \"components\": {\n",
      "        \"introduction\": {\n",
      "            \"path\": \"./assets/introduction.md\",\n",
      "            \"response\": [],\n",
      "            \"type\": \"markdown\"\n",
      "        },\n",
      "        \"barChart\": {\n",
      "            \"description\": \"Question that asks user to count the number of bars that have a value greater than 1.\",\n",
      "            \"instruction\": \"How many bars have a value greater than 1?\",\n",
      "            \"meta\": {\n",
      "                \"difficulty\": \"hard\"\n",
      "            },\n",
      "            \"nextButtonLocation\": \"sidebar\",\n",
      "            \"path\": \"./assets/bar-chart.html\",\n",
      "            \"response\": [\n",
      "                {\n",
      "                    \"id\": \"html-response\",\n",
      "                    \"location\": \"sidebar\",\n",
      "                    \"max\": 7.0,\n",
      "                    \"min\": 0.0,\n",
      "                    \"placeholder\": \"0 - 7\",\n",
      "                    \"prompt\": \"answer\",\n",
      "                    \"required\": true,\n",
      "                    \"type\": \"numerical\"\n",
      "                }\n",
      "            ],\n",
      "            \"type\": \"website\"\n",
      "        }\n",
      "    },\n",
      "    \"sequence\": {\n",
      "        \"components\": [\n",
      "            \"introduction\",\n",
      "            \"barChart\"\n",
      "        ],\n",
      "        \"order\": \"fixed\"\n",
      "    },\n",
      "    \"studyMetadata\": {\n",
      "        \"authors\": [\n",
      "            \"The reVISit Team\"\n",
      "        ],\n",
      "        \"date\": \"2023-04-14\",\n",
      "        \"description\": \"A simple demo of using stimuli in an HTML file that renders a D3 visualization. Data is collected via a numeric response field.\",\n",
      "        \"organizations\": [\n",
      "            \"University of Utah\",\n",
      "            \"WPI\",\n",
      "            \"University of Toronto\"\n",
      "        ],\n",
      "        \"title\": \"HTML as a Stimulus\",\n",
      "        \"version\": \"pilot\"\n",
      "    },\n",
      "    \"uiConfig\": {\n",
      "        \"autoDownloadStudy\": false,\n",
      "        \"contactEmail\": \"contact@revisit.dev\",\n",
      "        \"helpTextPath\": \"./assets/help.md\",\n",
      "        \"logoPath\": \"./assets/revisitLogoSquare.svg\",\n",
      "        \"sidebar\": true,\n",
      "        \"windowEventDebounceTime\": 200.0,\n",
      "        \"withProgressBar\": true\n",
      "    }\n",
      "}\n",
      "Copying file from ./assets/introduction.md to /Users/bbollen23/study/public/revisit-widget/assets/introduction.md\n",
      "Copying file from ./assets/bar-chart.html to /Users/bbollen23/study/public/revisit-widget/assets/bar-chart.html\n",
      "Copying file from ./assets/help.md to /Users/bbollen23/study/public/revisit-widget/assets/help.md\n",
      "Copying file from ./assets/revisitLogoSquare.svg to /Users/bbollen23/study/public/revisit-widget/assets/revisitLogoSquare.svg\n"
     ]
    }
   ],
   "source": [
    "import src.revisit as rvt\n",
    "\n",
    "study_metadata = rvt.studyMetadata(\n",
    "    **{\n",
    "        \"title\": \"HTML as a Stimulus\",\n",
    "        \"version\": \"pilot\",\n",
    "        \"authors\": [\n",
    "            \"The reVISit Team\"\n",
    "        ],\n",
    "        \"date\": \"2023-04-14\",\n",
    "        \"description\": \"A simple demo of using stimuli in an HTML file that renders a D3 visualization. Data is collected via a numeric response field.\",\n",
    "        \"organizations\": [\n",
    "            \"University of Utah\",\n",
    "            \"WPI\",\n",
    "            \"University of Toronto\"\n",
    "        ]\n",
    "  }\n",
    ")\n",
    "\n",
    "ui_config = rvt.uiConfig(\n",
    "    **{\n",
    "        \"contactEmail\": \"contact@revisit.dev\",\n",
    "        \"helpTextPath\": \"./assets/help.md\",\n",
    "        \"logoPath\": \"./assets/revisitLogoSquare.svg\",\n",
    "        \"withProgressBar\": True,\n",
    "        \"autoDownloadStudy\": False,\n",
    "        \"sidebar\": True,\n",
    "        \"windowEventDebounceTime\": 200\n",
    "  }\n",
    ")\n",
    "\n",
    "introduction = rvt.component(\n",
    "    component_name__='introduction',\n",
    "    type='markdown',\n",
    "    path='./assets/introduction.md',\n",
    "    response=[]\n",
    ")\n",
    "\n",
    "barChart = rvt.component(\n",
    "    component_name__='barChart',\n",
    "    type='website',\n",
    "    nextButtonLocation='sidebar',\n",
    "    meta={\n",
    "        'difficulty':'hard'\n",
    "    },\n",
    "    description='Question that asks user to count the number of bars that have a value greater than 1.',\n",
    "    instruction=\"How many bars have a value greater than 1?\",\n",
    "    path='./assets/bar-chart.html',\n",
    "    response=[\n",
    "        rvt.response(\n",
    "            id='html-response',\n",
    "            prompt='answer',\n",
    "            required=True,\n",
    "            location='sidebar',\n",
    "            type='numerical',\n",
    "            placeholder='0 - 7',\n",
    "            min=0,\n",
    "            max=7\n",
    "        )\n",
    "    ]\n",
    ")\n",
    "\n",
    "sequence = rvt.sequence(\n",
    "    order='fixed',\n",
    "    components=[introduction, barChart]\n",
    ")\n",
    "\n",
    "final_study = rvt.studyConfig(\n",
    "    schema='https://raw.githubusercontent.com/revisit-studies/study/v1.0.6/src/parser/StudyConfigSchema.json',\n",
    "    uiConfig=ui_config,\n",
    "    studyMetadata=study_metadata,\n",
    "    sequence=sequence\n",
    ")\n",
    "\n",
    "print(final_study)\n",
    "w = rvt.widget(final_study, '/Users/bbollen23/study')\n"
   ]
  },
  {
   "cell_type": "code",
   "execution_count": 6,
   "metadata": {},
   "outputs": [
    {
     "data": {
      "application/vnd.jupyter.widget-view+json": {
       "model_id": "dd079d0c86654283a4bf4eedc03c6d5d",
       "version_major": 2,
       "version_minor": 1
      },
      "text/plain": [
       "Widget(config={'$schema': 'https://raw.githubusercontent.com/revisit-studies/study/v1.0.6/src/parser/StudyConf…"
      ]
     },
     "execution_count": 6,
     "metadata": {},
     "output_type": "execute_result"
    }
   ],
   "source": [
    "w"
   ]
  }
 ],
 "metadata": {
  "kernelspec": {
   "display_name": ".venv",
   "language": "python",
   "name": "python3"
  },
  "language_info": {
   "codemirror_mode": {
    "name": "ipython",
    "version": 3
   },
   "file_extension": ".py",
   "mimetype": "text/x-python",
   "name": "python",
   "nbconvert_exporter": "python",
   "pygments_lexer": "ipython3",
   "version": "3.12.5"
  }
 },
 "nbformat": 4,
 "nbformat_minor": 2
}
