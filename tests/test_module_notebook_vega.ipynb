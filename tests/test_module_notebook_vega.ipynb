{
 "cells": [
  {
   "cell_type": "code",
   "execution_count": 1,
   "metadata": {},
   "outputs": [
    {
     "name": "stdout",
     "output_type": "stream",
     "text": [
      "env: ANYWIDGET_HMR=1\n"
     ]
    }
   ],
   "source": [
    "%load_ext autoreload\n",
    "%autoreload 2\n",
    "%env ANYWIDGET_HMR=1"
   ]
  },
  {
   "cell_type": "code",
   "execution_count": 2,
   "metadata": {},
   "outputs": [
    {
     "data": {
      "text/html": [
       "\n",
       "<style>\n",
       "  #altair-viz-4ec75144dc614b74828e60d0816be37b.vega-embed {\n",
       "    width: 100%;\n",
       "    display: flex;\n",
       "  }\n",
       "\n",
       "  #altair-viz-4ec75144dc614b74828e60d0816be37b.vega-embed details,\n",
       "  #altair-viz-4ec75144dc614b74828e60d0816be37b.vega-embed details summary {\n",
       "    position: relative;\n",
       "  }\n",
       "</style>\n",
       "<div id=\"altair-viz-4ec75144dc614b74828e60d0816be37b\"></div>\n",
       "<script type=\"text/javascript\">\n",
       "  var VEGA_DEBUG = (typeof VEGA_DEBUG == \"undefined\") ? {} : VEGA_DEBUG;\n",
       "  (function(spec, embedOpt){\n",
       "    let outputDiv = document.currentScript.previousElementSibling;\n",
       "    if (outputDiv.id !== \"altair-viz-4ec75144dc614b74828e60d0816be37b\") {\n",
       "      outputDiv = document.getElementById(\"altair-viz-4ec75144dc614b74828e60d0816be37b\");\n",
       "    }\n",
       "\n",
       "    const paths = {\n",
       "      \"vega\": \"https://cdn.jsdelivr.net/npm/vega@5?noext\",\n",
       "      \"vega-lib\": \"https://cdn.jsdelivr.net/npm/vega-lib?noext\",\n",
       "      \"vega-lite\": \"https://cdn.jsdelivr.net/npm/vega-lite@5.20.1?noext\",\n",
       "      \"vega-embed\": \"https://cdn.jsdelivr.net/npm/vega-embed@6?noext\",\n",
       "    };\n",
       "\n",
       "    function maybeLoadScript(lib, version) {\n",
       "      var key = `${lib.replace(\"-\", \"\")}_version`;\n",
       "      return (VEGA_DEBUG[key] == version) ?\n",
       "        Promise.resolve(paths[lib]) :\n",
       "        new Promise(function(resolve, reject) {\n",
       "          var s = document.createElement('script');\n",
       "          document.getElementsByTagName(\"head\")[0].appendChild(s);\n",
       "          s.async = true;\n",
       "          s.onload = () => {\n",
       "            VEGA_DEBUG[key] = version;\n",
       "            return resolve(paths[lib]);\n",
       "          };\n",
       "          s.onerror = () => reject(`Error loading script: ${paths[lib]}`);\n",
       "          s.src = paths[lib];\n",
       "        });\n",
       "    }\n",
       "\n",
       "    function showError(err) {\n",
       "      outputDiv.innerHTML = `<div class=\"error\" style=\"color:red;\">${err}</div>`;\n",
       "      throw err;\n",
       "    }\n",
       "\n",
       "    function displayChart(vegaEmbed) {\n",
       "      vegaEmbed(outputDiv, spec, embedOpt)\n",
       "        .catch(err => showError(`Javascript Error: ${err.message}<br>This usually means there's a typo in your chart specification. See the javascript console for the full traceback.`));\n",
       "    }\n",
       "\n",
       "    if(typeof define === \"function\" && define.amd) {\n",
       "      requirejs.config({paths});\n",
       "      let deps = [\"vega-embed\"];\n",
       "      require(deps, displayChart, err => showError(`Error loading script: ${err.message}`));\n",
       "    } else {\n",
       "      maybeLoadScript(\"vega\", \"5\")\n",
       "        .then(() => maybeLoadScript(\"vega-lite\", \"5.20.1\"))\n",
       "        .then(() => maybeLoadScript(\"vega-embed\", \"6\"))\n",
       "        .catch(showError)\n",
       "        .then(() => displayChart(vegaEmbed));\n",
       "    }\n",
       "  })({\"config\": {\"view\": {\"continuousWidth\": 300, \"continuousHeight\": 300}}, \"data\": {\"name\": \"data-d2e7489d1531a07a39e96761197ee1a7\"}, \"mark\": {\"type\": \"bar\"}, \"encoding\": {\"x\": {\"field\": \"Category\", \"type\": \"nominal\"}, \"y\": {\"field\": \"Value\", \"type\": \"quantitative\"}}, \"height\": 300, \"title\": \"Simple Bar Chart\", \"width\": 400, \"$schema\": \"https://vega.github.io/schema/vega-lite/v5.20.1.json\", \"datasets\": {\"data-d2e7489d1531a07a39e96761197ee1a7\": [{\"Category\": \"A\", \"Value\": 10}, {\"Category\": \"B\", \"Value\": 20}, {\"Category\": \"C\", \"Value\": 30}, {\"Category\": \"D\", \"Value\": 40}, {\"Category\": \"E\", \"Value\": 50}]}}, {\"mode\": \"vega-lite\"});\n",
       "</script>"
      ],
      "text/plain": [
       "alt.Chart(...)"
      ]
     },
     "execution_count": 2,
     "metadata": {},
     "output_type": "execute_result"
    }
   ],
   "source": [
    "import altair as alt\n",
    "import pandas as pd\n",
    "data = pd.DataFrame({\n",
    "    'Category': ['A', 'B', 'C', 'D', 'E'],\n",
    "    'Value': [10, 20, 30, 40, 50]\n",
    "})\n",
    "\n",
    "# Create a bar chart\n",
    "chart = alt.Chart(data).mark_bar().encode(\n",
    "    x='Category:N',  # Nominal data for x-axis\n",
    "    y='Value:Q'      # Quantitative data for y-axis\n",
    ").properties(\n",
    "    title='Simple Bar Chart',\n",
    "    width=400,\n",
    "    height=300\n",
    ")\n",
    "\n",
    "chart"
   ]
  },
  {
   "cell_type": "code",
   "execution_count": 3,
   "metadata": {},
   "outputs": [],
   "source": [
    "import revisit as rvt\n",
    "import random\n",
    "\n",
    "study_metadata = rvt.studyMetadata(\n",
    "    authors=[],\n",
    "    organizations=[],\n",
    "    title='',\n",
    "    description='',\n",
    "    date='',\n",
    "    version=''\n",
    ")\n",
    "\n",
    "ui_config = rvt.uiConfig(\n",
    "  contactEmail=\"tet@test.com\",\n",
    "  logoPath=\"./assets/revisitLogoSquare.svg\",\n",
    "  sidebar=True,\n",
    "  withProgressBar=False\n",
    ")\n",
    "\n",
    "sequence = rvt.sequence(\n",
    "    order='random',\n",
    "    components=[]\n",
    ")\n",
    "\n",
    "base_response = rvt.response(\n",
    "    id='vega-response',\n",
    "    type='dropdown',\n",
    "    options=['A','B','C','D','E'],\n",
    "    required=True,\n",
    "    location='sidebar',\n",
    "    prompt='Choose the letter corresponding to the highest bar'\n",
    ")\n",
    "\n",
    "for i in range(0, 20):\n",
    "    curr_data = pd.DataFrame({\n",
    "        'Category': ['A', 'B', 'C', 'D', 'E'],\n",
    "        'Value': [random.randint(1, 50) for j in range(5)]\n",
    "    })\n",
    "    curr_chart = alt.Chart(curr_data).mark_bar().encode(\n",
    "        x='Category:N',  # Nominal data for x-axis\n",
    "        y='Value:Q'      # Quantitative data for y-axis\n",
    "    ).properties(\n",
    "        title='Simple Bar Chart',\n",
    "        width=400,\n",
    "        height=300\n",
    "    )\n",
    "    vega_spec = curr_chart.to_dict()\n",
    "\n",
    "    curr_comp = rvt.component(\n",
    "        component_name__=f'vega-bar-chart-{i}',\n",
    "        type='vega',\n",
    "        config=vega_spec,\n",
    "        response=[base_response.clone()],\n",
    "        nextButtonLocation='sidebar'\n",
    "    )\n",
    "\n",
    "    sequence = sequence + curr_comp\n",
    "\n",
    "study = rvt.studyConfig(\n",
    "    schema=\"https://raw.githubusercontent.com/revisit-studies/study/v2.0.0-rc1/src/parser/StudyConfigSchema.json\",\n",
    "    uiConfig=ui_config,\n",
    "    studyMetadata=study_metadata,\n",
    "    sequence=sequence\n",
    ")"
   ]
  },
  {
   "cell_type": "code",
   "execution_count": 4,
   "metadata": {},
   "outputs": [
    {
     "name": "stdout",
     "output_type": "stream",
     "text": [
      "Copying file from ./assets/revisitLogoSquare.svg to /Users/bbollen23/study/public/__revisit-widget/assets/revisitLogoSquare.svg\n"
     ]
    },
    {
     "data": {
      "application/vnd.jupyter.widget-view+json": {
       "model_id": "22574c038e764f659495da5495fd99b4",
       "version_major": 2,
       "version_minor": 1
      },
      "text/plain": [
       "Widget(config={'$schema': 'https://raw.githubusercontent.com/revisit-studies/study/v2.0.0-rc1/src/parser/Study…"
      ]
     },
     "execution_count": 4,
     "metadata": {},
     "output_type": "execute_result"
    }
   ],
   "source": [
    "w = rvt.widget(study, '/Users/bbollen23/study')\n",
    "w"
   ]
  }
 ],
 "metadata": {
  "kernelspec": {
   "display_name": "Python 3 (ipykernel)",
   "language": "python",
   "name": "python3"
  },
  "language_info": {
   "codemirror_mode": {
    "name": "ipython",
    "version": 3
   },
   "file_extension": ".py",
   "mimetype": "text/x-python",
   "name": "python",
   "nbconvert_exporter": "python",
   "pygments_lexer": "ipython3",
   "version": "3.12.5"
  }
 },
 "nbformat": 4,
 "nbformat_minor": 4
}
