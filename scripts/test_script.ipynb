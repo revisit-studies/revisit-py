{
 "cells": [
  {
   "cell_type": "markdown",
   "metadata": {},
   "source": [
    "# What This File Is\n",
    "\n",
    "This is a blank script for testing purposes. Only this script will\n",
    "currently be tracked in git. Any other scripts in this directory will\n",
    "not be tracked by git.\n",
    "\n",
    "This file is specifically useful for sharing code between\n",
    "contributors of this package for testing purposes only.\n",
    "\n",
    "This file is also ignored by the package builder.\n",
    "\n",
    "In order to import the local version `revisit`, we adjust the system path."
   ]
  },
  {
   "cell_type": "code",
   "execution_count": 1,
   "metadata": {},
   "outputs": [],
   "source": [
    "import sys\n",
    "import os\n",
    "\n",
    "# Add the root directory to sys.path\n",
    "project_root = os.path.abspath(\"..\")  # Adjust the path based on your directory structure\n",
    "if project_root not in sys.path:\n",
    "    sys.path.insert(0, project_root)\n",
    "\n",
    "# Now you can import your package\n",
    "import src.revisit.revisit as rvt"
   ]
  }
 ],
 "metadata": {
  "kernelspec": {
   "display_name": ".venv",
   "language": "python",
   "name": "python3"
  },
  "language_info": {
   "codemirror_mode": {
    "name": "ipython",
    "version": 3
   },
   "file_extension": ".py",
   "mimetype": "text/x-python",
   "name": "python",
   "nbconvert_exporter": "python",
   "pygments_lexer": "ipython3",
   "version": "3.12.5"
  }
 },
 "nbformat": 4,
 "nbformat_minor": 2
}
