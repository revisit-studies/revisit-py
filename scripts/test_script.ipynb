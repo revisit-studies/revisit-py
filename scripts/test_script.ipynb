{
 "cells": [
  {
   "cell_type": "markdown",
   "metadata": {},
   "source": [
    "# What This File Is\n",
    "\n",
    "This is a blank script for testing purposes. Only this script will\n",
    "currently be tracked in git. Any other scripts in this directory will\n",
    "not be tracked by git.\n",
    "\n",
    "This file is specifically useful for sharing code between\n",
    "contributors of this package for testing purposes only.\n",
    "\n",
    "This file is also ignored by the package builder.\n",
    "\n",
    "In order to import the local version `revisit`, we adjust the system path."
   ]
  },
  {
   "cell_type": "code",
   "execution_count": 1,
   "metadata": {},
   "outputs": [],
   "source": [
    "import sys\n",
    "import os\n",
    "\n",
    "# Add the root directory to sys.path\n",
    "project_root = os.path.abspath(\"..\")  # Adjust the path based on your directory structure\n",
    "if project_root not in sys.path:\n",
    "    sys.path.insert(0, project_root)\n",
    "\n",
    "# Now you can import your package\n",
    "import src.revisitpy.revisitpy as rvt\n",
    "import revisit_server as rs"
   ]
  },
  {
   "cell_type": "code",
   "execution_count": 2,
   "metadata": {},
   "outputs": [
    {
     "name": "stdout",
     "output_type": "stream",
     "text": [
      "['python', '/Users/bbollen23/revisit-py/.venv/lib/python3.12/site-packages/revisit_server/run_server.py']\n",
      "Server is running in the background at http://localhost:8080\n"
     ]
    }
   ],
   "source": [
    "process = rs.serve()"
   ]
  },
  {
   "cell_type": "code",
   "execution_count": 3,
   "metadata": {},
   "outputs": [
    {
     "name": "stdout",
     "output_type": "stream",
     "text": [
      "{\n",
      "    \"$schema\": \"https://raw.githubusercontent.com/revisit-studies/study/v2.0.0-rc1/src/parser/StudyConfigSchema.json\",\n",
      "    \"components\": {\n",
      "        \"introduction\": {\n",
      "            \"path\": \"./assets/introduction.md\",\n",
      "            \"response\": [],\n",
      "            \"type\": \"markdown\"\n",
      "        }\n",
      "    },\n",
      "    \"sequence\": {\n",
      "        \"components\": [\n",
      "            \"introduction\"\n",
      "        ],\n",
      "        \"order\": \"fixed\"\n",
      "    },\n",
      "    \"studyMetadata\": {\n",
      "        \"authors\": [\n",
      "            \"Brian Bollen\"\n",
      "        ],\n",
      "        \"date\": \"2025-01-13\",\n",
      "        \"description\": \"\",\n",
      "        \"organizations\": [\n",
      "            \"Visualization Design La\"\n",
      "        ],\n",
      "        \"title\": \"Showcasing revisit-py\",\n",
      "        \"version\": \"1.0\"\n",
      "    },\n",
      "    \"uiConfig\": {\n",
      "        \"contactEmail\": \"briancbollen@gmail.com\",\n",
      "        \"logoPath\": \"./assets/revisitLogoSquare.svg\",\n",
      "        \"sidebar\": true,\n",
      "        \"withProgressBar\": false\n",
      "    }\n",
      "}\n"
     ]
    }
   ],
   "source": [
    "\n",
    "# Meta Data\n",
    "study_metadata = rvt.studyMetadata(\n",
    "    authors=[\"Brian Bollen\"],\n",
    "    organizations=[\"Visualization Design La\"],\n",
    "    title='Showcasing reVISitPy',\n",
    "    description='',\n",
    "    date='2025-01-13',\n",
    "    version='1.0'\n",
    ")\n",
    "\n",
    "\n",
    "# UI Config\n",
    "ui_config = rvt.uiConfig(\n",
    "  contactEmail=\"briancbollen@gmail.com\",\n",
    "  logoPath=\"./assets/revisitLogoSquare.svg\",\n",
    "  sidebar=True,\n",
    "  withProgressBar=False\n",
    ")\n",
    "\n",
    "# Introduction\n",
    "introduction = rvt.component(type='markdown', path='./assets/introduction.md', component_name__= 'introduction')\n",
    "\n",
    "sequence = rvt.sequence(order='fixed',components=[introduction])\n",
    "\n",
    "study = rvt.studyConfig(\n",
    "    schema=\"https://raw.githubusercontent.com/revisit-studies/study/v2.0.0-rc1/src/parser/StudyConfigSchema.json\",\n",
    "    uiConfig=ui_config,\n",
    "    studyMetadata=study_metadata,\n",
    "    sequence=sequence\n",
    ")\n",
    "\n",
    "print(study)"
   ]
  },
  {
   "cell_type": "code",
   "execution_count": 4,
   "metadata": {},
   "outputs": [
    {
     "name": "stdout",
     "output_type": "stream",
     "text": [
      "Copying file from ./assets/introduction.md to /Users/bbollen23/revisit-py/.venv/lib/python3.12/site-packages/revisit_server/static/__revisit-widget/assets/introduction.md\n",
      "Copying file from ./assets/revisitLogoSquare.svg to /Users/bbollen23/revisit-py/.venv/lib/python3.12/site-packages/revisit_server/static/__revisit-widget/assets/revisitLogoSquare.svg\n"
     ]
    },
    {
     "data": {
      "application/vnd.jupyter.widget-view+json": {
       "model_id": "ef2000d9e7be42f7ae0ec73d48cec28b",
       "version_major": 2,
       "version_minor": 1
      },
      "text/plain": [
       "Widget(config={'$schema': 'https://raw.githubusercontent.com/revisit-studies/study/v2.0.0-rc1/src/parser/Study…"
      ]
     },
     "execution_count": 4,
     "metadata": {},
     "output_type": "execute_result"
    }
   ],
   "source": [
    "w = rvt.widget(study, server=True, pathToLib='/Users/bbollen23/revisit-py/.venv/lib/python3.12/site-packages/revisit_server')\n",
    "w"
   ]
  }
 ],
 "metadata": {
  "kernelspec": {
   "display_name": ".venv",
   "language": "python",
   "name": "python3"
  },
  "language_info": {
   "codemirror_mode": {
    "name": "ipython",
    "version": 3
   },
   "file_extension": ".py",
   "mimetype": "text/x-python",
   "name": "python",
   "nbconvert_exporter": "python",
   "pygments_lexer": "ipython3",
   "version": "3.12.5"
  }
 },
 "nbformat": 4,
 "nbformat_minor": 2
}
